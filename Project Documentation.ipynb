{
 "cells": [
  {
   "cell_type": "markdown",
   "id": "9ee7f93e",
   "metadata": {},
   "source": [
    "Mmeughaiy hat DB ausführlicha analysiert\n",
    "Piri hat eine Idee entwickelt und macht nun Analyse für die Ergebnsisse"
   ]
  }
 ],
 "metadata": {
  "kernelspec": {
   "display_name": "Python 3",
   "language": "python",
   "name": "python3"
  },
  "language_info": {
   "codemirror_mode": {
    "name": "ipython",
    "version": 3
   },
   "file_extension": ".py",
   "mimetype": "text/x-python",
   "name": "python",
   "nbconvert_exporter": "python",
   "pygments_lexer": "ipython3",
   "version": "3.9.1"
  }
 },
 "nbformat": 4,
 "nbformat_minor": 5
}
