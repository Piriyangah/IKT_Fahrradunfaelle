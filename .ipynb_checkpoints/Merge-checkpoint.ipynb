{
 "cells": [
  {
   "cell_type": "markdown",
   "id": "79eaa069",
   "metadata": {},
   "source": [
    "### Accident table head\n",
    "\n",
    "Index(['OBJECTID', 'UIDENTSTLAE', 'ULAND', 'UREGBEZ', 'UKREIS', 'UGEMEINDE',\n",
    "       'UJAHR', 'UMONAT', 'USTUNDE', 'UWOCHENTAG', 'UKATEGORIE', 'UART',\n",
    "       'UTYP1', 'ULICHTVERH', 'IstStrassenzustand', 'IstRad', 'IstPKW',\n",
    "       'IstFuss', 'IstKrad', 'IstGkfz', 'IstSonstige', 'LINREFX', 'LINREFY',\n",
    "       'XGCSWGS84', 'YGCSWGS84'],\n",
    "      dtype='object')\n",
    "      \n",
    "     \n",
    "      "
   ]
  },
  {
   "cell_type": "markdown",
   "id": "bb797f4e",
   "metadata": {},
   "source": [
    "  ### Nearly accident Table head\n",
    "  \n",
    "  Index(['lat', 'lon', 'ts', 'bike', 'childCheckBox', 'trailerCheckBox', 'pLoc',\n",
    "       'incident', 'i1', 'i2', 'i3', 'i4', 'i5', 'i6', 'i7', 'i8', 'i9',\n",
    "       'scary', 'desc', 'i10', 'region'],\n",
    "      dtype='object')"
   ]
  },
  {
   "cell_type": "markdown",
   "id": "af36d14b",
   "metadata": {},
   "source": [
    "- What columns(features) do they have in common?\n",
    "- Which features are the most important?\n",
    "- How can we merge the table \n",
    "- How does a decision tree model work?\n"
   ]
  },
  {
   "cell_type": "markdown",
   "id": "02ae6206",
   "metadata": {},
   "source": [
    "### Similar features or column head\n",
    "\n",
    "\n",
    "|accident table |nearly accident|\n",
    "|---------------|---------------|\n",
    "|UJAHR| ts |\n",
    "|UMONAT| ts |\n",
    "|USTUNDE| ts |\n",
    "|UWOCHENTAG|ts|\n",
    "|ULAND| region|\n",
    "|IstRad | i2 |\n",
    "|IstFuss| i3 |\n",
    "|IstPKW|i7|\n",
    "|IstKrad|i6|\n",
    "|IstGkfz| i4|\n",
    "|IstSonstige | i9 |\n",
    "|LINREFX| lon |\n",
    "|LINREFY|lat|\n",
    "|UART| incident |\n"
   ]
  },
  {
   "cell_type": "markdown",
   "id": "afb2e811",
   "metadata": {},
   "source": [
    "### Not yet on the table\n",
    "\n",
    "Actual accident \n",
    "- UREGBEZ\n",
    "- OBJECTID\n",
    "- UIDENTSTLAE\n",
    "- ULICHTVERH\n",
    "- UTYP1\n",
    "- IstStrassenzustand\n",
    "- XGCSWGS84\n",
    "- YGCSWGS84\n",
    "\n",
    "\n",
    "\n",
    "Near Accident\n",
    "- childCheckBox\n",
    "- scary\n",
    "- desc\n",
    "- trailerCheckBox\n",
    "- bike"
   ]
  },
  {
   "cell_type": "code",
   "execution_count": null,
   "id": "d0a4b01f",
   "metadata": {},
   "outputs": [],
   "source": []
  }
 ],
 "metadata": {
  "kernelspec": {
   "display_name": "Python 3",
   "language": "python",
   "name": "python3"
  },
  "language_info": {
   "codemirror_mode": {
    "name": "ipython",
    "version": 3
   },
   "file_extension": ".py",
   "mimetype": "text/x-python",
   "name": "python",
   "nbconvert_exporter": "python",
   "pygments_lexer": "ipython3",
   "version": "3.9.1"
  }
 },
 "nbformat": 4,
 "nbformat_minor": 5
}
