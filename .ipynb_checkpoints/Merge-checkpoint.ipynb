{
 "cells": [
  {
   "cell_type": "markdown",
   "id": "bb562545",
   "metadata": {},
   "source": [
    "### Accident table head\n",
    "\n",
    "Index(['OBJECTID', 'UIDENTSTLAE', 'ULAND', 'UREGBEZ', 'UKREIS', 'UGEMEINDE',\n",
    "       'UJAHR', 'UMONAT', 'USTUNDE', 'UWOCHENTAG', 'UKATEGORIE', 'UART',\n",
    "       'UTYP1', 'ULICHTVERH', 'IstStrassenzustand', 'IstRad', 'IstPKW',\n",
    "       'IstFuss', 'IstKrad', 'IstGkfz', 'IstSonstige', 'LINREFX', 'LINREFY',\n",
    "       'XGCSWGS84', 'YGCSWGS84'],\n",
    "      dtype='object')\n",
    "      \n",
    "     \n",
    "      "
   ]
  },
  {
   "cell_type": "markdown",
   "id": "b75d605e",
   "metadata": {},
   "source": [
    "  ### Nearly accident Table head\n",
    "  \n",
    "  Index(['lat', 'lon', 'ts', 'bike', 'childCheckBox', 'trailerCheckBox', 'pLoc',\n",
    "       'incident', 'i1', 'i2', 'i3', 'i4', 'i5', 'i6', 'i7', 'i8', 'i9',\n",
    "       'scary', 'desc', 'i10', 'region'],\n",
    "      dtype='object')"
   ]
  },
  {
   "cell_type": "markdown",
   "id": "870b5852",
   "metadata": {},
   "source": [
    "- What columns(features) do they have in common?\n",
    "- Which features are the most important?\n",
    "- How can we merge the table \n",
    "- How does a decision tree model work?\n",
    "\n",
    "pipeline sklearn\n"
   ]
  },
  {
   "cell_type": "markdown",
   "id": "dbaf6f45",
   "metadata": {},
   "source": [
    "### What is the machine learning aspect of this project?\n",
    "- Given near accident and accident data -> merge the data at latitude / longitude if within given distance\n",
    "- machine learning model learns to predict given the near accident data and the location if a real accident happens \n",
    "- machine learning model learns to classify between the severities (death, severe injury, slight injury) (given lat/long, wetness, type of bike, phone location etc. [more features in nearly accident data])\n",
    "- machine learning model learns to classify \n",
    "\n",
    "- wo echte unfälle passiert zeigt es das deer straßegefährlich ist\n",
    "- sind beinahunfälle ein predictor von unfälle? gefahrenscore berechnen \n",
    "-\n",
    "\n",
    "- Die meisten Unfälle sind zwar in trockenen Zustand, aber sind vielleicht nur leichte Unfälle und in Nassen zustand können es sogar tötliche Unfälle sein. Also spielt für den Gefahrengrad wetter vielleicht doch eine große Rolle?"
   ]
  },
  {
   "cell_type": "markdown",
   "id": "f32f097c",
   "metadata": {},
   "source": [
    "### presentation\n",
    "\n",
    "- Have a good question\n",
    "- You are familiar with your dataset"
   ]
  },
  {
   "cell_type": "markdown",
   "id": "a7390d01",
   "metadata": {},
   "source": [
    "### Similar features or column head\n",
    "\n",
    "\n",
    "|accident table |nearly accident|\n",
    "|---------------|---------------|\n",
    "|UJAHR| ts |\n",
    "|UMONAT| ts |\n",
    "|USTUNDE| ts |\n",
    "|UWOCHENTAG|ts|\n",
    "|ULAND| region|\n",
    "|IstRad | i2 |\n",
    "|IstFuss| i3 |\n",
    "|IstPKW|i7|\n",
    "|IstKrad|i6|\n",
    "|IstGkfz| i4|\n",
    "|IstSonstige | i9 |\n",
    "|LINREFX| lon |\n",
    "|LINREFY|lat|\n",
    "|UART| incident |\n"
   ]
  },
  {
   "cell_type": "markdown",
   "id": "b2471831",
   "metadata": {},
   "source": [
    "### Not yet on the table\n",
    "\n",
    "Actual accident \n",
    "- UREGBEZ\n",
    "- OBJECTID\n",
    "- UIDENTSTLAE\n",
    "- ULICHTVERH\n",
    "- UTYP1\n",
    "- IstStrassenzustand\n",
    "- XGCSWGS84\n",
    "- YGCSWGS84\n",
    "\n",
    "\n",
    "\n",
    "Near Accident\n",
    "- childCheckBox\n",
    "- scary\n",
    "- desc\n",
    "- trailerCheckBox\n",
    "- bike"
   ]
  },
  {
   "cell_type": "markdown",
   "id": "aa5a39e1",
   "metadata": {},
   "source": [
    "https://realpython.com/pandas-merge-join-and-concat/\n",
    "\n",
    "- Merge \n",
    "    - left or right \n",
    "    - change the column names so they are uniform?\n",
    "    \n",
    "- Decision tree\n",
    "    - https://scikit-learn.org/stable/modules/tree.html\n"
   ]
  },
  {
   "cell_type": "markdown",
   "id": "40e00c3a",
   "metadata": {},
   "source": [
    "x and y coordinates \n",
    "probability of an accident happening\n",
    "Do a rating &rarr; if there are lots of accidents, probability is higer\n",
    "\n",
    "make a map of berlin, the ML model is getting the two coordinates and depending on other variable etc season, location of the phone, lichtverhältnisse, the model will then say how likely there will be an accident.\n",
    "\n"
   ]
  },
  {
   "cell_type": "markdown",
   "id": "1eeca7eb",
   "metadata": {},
   "source": [
    "### Homework\n",
    "\n",
    "- The accident and nearly accident data x,y coordinates &rarr; how big is the radius e.g do you count the whole crossing or only the spot\n",
    "- define lots of things about accidents i.e what should be taken into account when judging accidents.\n",
    "- e.g accident at 50:50 (x,y) near accident at 51:50. does this count or not? Such has to be define/set\n",
    "- if yes, give the near accidents identifiers and merge it. \n"
   ]
  },
  {
   "cell_type": "code",
   "execution_count": 42,
   "id": "d25d0299",
   "metadata": {},
   "outputs": [],
   "source": [
    "import pandas as pd \n",
    "from os import path\n"
   ]
  },
  {
   "cell_type": "code",
   "execution_count": 43,
   "id": "ffc47881",
   "metadata": {},
   "outputs": [],
   "source": [
    "df = pd.read_csv('data\\Berlin-incidents.csv', on_bad_lines='skip')"
   ]
  },
  {
   "cell_type": "code",
   "execution_count": 44,
   "id": "03edf682",
   "metadata": {},
   "outputs": [],
   "source": [
    "#df"
   ]
  },
  {
   "cell_type": "code",
   "execution_count": 45,
   "id": "571a4a1a",
   "metadata": {},
   "outputs": [
    {
     "data": {
      "text/plain": [
       "'data\\\\accidents_2022\\\\Unfallorte2022_LinRef.csv'"
      ]
     },
     "execution_count": 45,
     "metadata": {},
     "output_type": "execute_result"
    }
   ],
   "source": [
    "file_path = path.join(\"data\", \"accidents_2022\", \"Unfallorte2022_LinRef.csv\")\n",
    "file_path"
   ]
  },
  {
   "cell_type": "code",
   "execution_count": 46,
   "id": "e8baef94",
   "metadata": {},
   "outputs": [
    {
     "name": "stderr",
     "output_type": "stream",
     "text": [
      "<ipython-input-46-b1918e2c5f39>:1: DtypeWarning: Columns (1) have mixed types. Specify dtype option on import or set low_memory=False.\n",
      "  ad = pd.read_csv(file_path, sep=\";\")\n"
     ]
    }
   ],
   "source": [
    "ad = pd.read_csv(file_path, sep=\";\")"
   ]
  },
  {
   "cell_type": "code",
   "execution_count": 47,
   "id": "ead5dcd6",
   "metadata": {},
   "outputs": [],
   "source": [
    "df_beFa = ad[(ad[\"IstRad\"] == 1) & (ad[\"ULAND\"] == 11)].copy()"
   ]
  },
  {
   "cell_type": "code",
   "execution_count": 48,
   "id": "29e8e04d",
   "metadata": {},
   "outputs": [],
   "source": [
    "#df_beFa"
   ]
  },
  {
   "cell_type": "code",
   "execution_count": 49,
   "id": "2fa21135",
   "metadata": {},
   "outputs": [],
   "source": [
    "#df_beFa.columns\n"
   ]
  },
  {
   "cell_type": "code",
   "execution_count": 51,
   "id": "bd600d49",
   "metadata": {},
   "outputs": [],
   "source": [
    "#expressing latitude and longitude in distance. \n",
    "#Trying to find out what lat and lon points mean etc how big is a lat/lon pt\n",
    "\n",
    "import math\n",
    "\n",
    "def haversine(lat1, lon1, lat2, lon2):\n",
    "    # Radius of the Earth in kilometers\n",
    "    R = 6371.0\n",
    "    \n",
    "    # Convert degrees to radians\n",
    "    phi1 = math.radians(lat1)\n",
    "    phi2 = math.radians(lat2)\n",
    "    delta_phi = math.radians(lat2 - lat1)\n",
    "    delta_lambda = math.radians(lon2 - lon1)\n",
    "    \n",
    "    # Haversine formula\n",
    "    a = math.sin(delta_phi / 2.0)**2 + math.cos(phi1) * math.cos(phi2) * math.sin(delta_lambda / 2.0)**2\n",
    "    c = 2 * math.atan2(math.sqrt(a), math.sqrt(1 - a))\n",
    "    \n",
    "    # Distance in kilometers\n",
    "    distance = R * c\n",
    "    return distance\n",
    "\n",
    "#distance = haversine(lat1, lon1, lat2, lon2)\n",
    "#print(f\"Distance: {distance} km\")"
   ]
  },
  {
   "cell_type": "code",
   "execution_count": 52,
   "id": "2a91af2f",
   "metadata": {},
   "outputs": [],
   "source": [
    "#lon1 = 13.385059354000100 \n",
    "#lat1 = 52.449999820000102"
   ]
  },
  {
   "cell_type": "code",
   "execution_count": 53,
   "id": "40632a0c",
   "metadata": {},
   "outputs": [],
   "source": [
    "#distance = haversine(lat1, lon1, lat2, lon2)\n",
    "#print(f\"Distance: {distance} km\")"
   ]
  },
  {
   "cell_type": "code",
   "execution_count": 54,
   "id": "1150b541",
   "metadata": {},
   "outputs": [],
   "source": [
    "df_beFa[\"near_accidents\"] = None"
   ]
  },
  {
   "cell_type": "code",
   "execution_count": 56,
   "id": "f35a53e3",
   "metadata": {},
   "outputs": [],
   "source": [
    "#df_beFa"
   ]
  },
  {
   "cell_type": "code",
   "execution_count": 57,
   "id": "caecf676",
   "metadata": {},
   "outputs": [],
   "source": [
    "xy_accidents= df_beFa[['XGCSWGS84', 'YGCSWGS84']].copy()"
   ]
  },
  {
   "cell_type": "code",
   "execution_count": 58,
   "id": "e81f9bdc",
   "metadata": {},
   "outputs": [],
   "source": [
    "#xy_accidents['XGCSWGS84']"
   ]
  },
  {
   "cell_type": "code",
   "execution_count": 59,
   "id": "b57e93df",
   "metadata": {},
   "outputs": [],
   "source": [
    "xy_accidents.XGCSWGS84=xy_accidents['XGCSWGS84'].str.replace(\",\",\".\").astype(float) "
   ]
  },
  {
   "cell_type": "code",
   "execution_count": 60,
   "id": "5599a7d7",
   "metadata": {},
   "outputs": [],
   "source": [
    "#xy_accidents['XGCSWGS84']"
   ]
  },
  {
   "cell_type": "code",
   "execution_count": 61,
   "id": "4c44dd90",
   "metadata": {},
   "outputs": [],
   "source": [
    "xy_accidents['YGCSWGS84']=xy_accidents['YGCSWGS84'].str.replace(\",\",\".\").astype(float) "
   ]
  },
  {
   "cell_type": "code",
   "execution_count": 62,
   "id": "ea0a6530",
   "metadata": {},
   "outputs": [],
   "source": [
    "#xy_accidents['YGCSWGS84']"
   ]
  },
  {
   "cell_type": "code",
   "execution_count": 63,
   "id": "24c90f19",
   "metadata": {},
   "outputs": [],
   "source": [
    "#xy_accidents"
   ]
  },
  {
   "cell_type": "code",
   "execution_count": 64,
   "id": "489ab3fe",
   "metadata": {},
   "outputs": [],
   "source": [
    "#rename the column\n",
    "\n",
    "xy_accidents=xy_accidents.rename(columns={'XGCSWGS84': 'lon','YGCSWGS84': 'lat'})"
   ]
  },
  {
   "cell_type": "code",
   "execution_count": 66,
   "id": "eedaa75d",
   "metadata": {},
   "outputs": [],
   "source": [
    "xy_accidents[\"near_accidents\"] = pd.NA\n",
    "#xy_accidents"
   ]
  },
  {
   "cell_type": "code",
   "execution_count": 67,
   "id": "1c7d9dae",
   "metadata": {},
   "outputs": [],
   "source": [
    "df_lat_lon = df[[\"lat\", \"lon\"]].copy()"
   ]
  },
  {
   "cell_type": "code",
   "execution_count": 69,
   "id": "a76e5e5d",
   "metadata": {},
   "outputs": [
    {
     "ename": "KeyboardInterrupt",
     "evalue": "",
     "output_type": "error",
     "traceback": [
      "\u001b[1;31m---------------------------------------------------------------------------\u001b[0m",
      "\u001b[1;31mKeyboardInterrupt\u001b[0m                         Traceback (most recent call last)",
      "\u001b[1;32m<ipython-input-69-64aae6960a6e>\u001b[0m in \u001b[0;36m<module>\u001b[1;34m\u001b[0m\n\u001b[0;32m      6\u001b[0m     \u001b[0mid_list\u001b[0m \u001b[1;33m=\u001b[0m \u001b[1;34m\"\"\u001b[0m\u001b[1;33m\u001b[0m\u001b[1;33m\u001b[0m\u001b[0m\n\u001b[0;32m      7\u001b[0m     \u001b[1;32mfor\u001b[0m \u001b[0mindex\u001b[0m\u001b[1;33m,\u001b[0m \u001b[0mrow\u001b[0m \u001b[1;32min\u001b[0m \u001b[0mdf_lat_lon\u001b[0m\u001b[1;33m.\u001b[0m\u001b[0miterrows\u001b[0m\u001b[1;33m(\u001b[0m\u001b[1;33m)\u001b[0m\u001b[1;33m:\u001b[0m\u001b[1;33m\u001b[0m\u001b[1;33m\u001b[0m\u001b[0m\n\u001b[1;32m----> 8\u001b[1;33m         \u001b[0mdistance\u001b[0m \u001b[1;33m=\u001b[0m \u001b[0mhaversine\u001b[0m\u001b[1;33m(\u001b[0m\u001b[0mlat1\u001b[0m\u001b[1;33m,\u001b[0m \u001b[0mlon1\u001b[0m\u001b[1;33m,\u001b[0m \u001b[0mrow\u001b[0m\u001b[1;33m[\u001b[0m\u001b[1;34m\"lat\"\u001b[0m\u001b[1;33m]\u001b[0m\u001b[1;33m,\u001b[0m \u001b[0mrow\u001b[0m\u001b[1;33m[\u001b[0m\u001b[1;34m\"lon\"\u001b[0m\u001b[1;33m]\u001b[0m\u001b[1;33m)\u001b[0m\u001b[1;33m\u001b[0m\u001b[1;33m\u001b[0m\u001b[0m\n\u001b[0m\u001b[0;32m      9\u001b[0m         \u001b[1;32mif\u001b[0m \u001b[0mdistance\u001b[0m \u001b[1;33m<\u001b[0m \u001b[1;36m0.03\u001b[0m\u001b[1;33m:\u001b[0m\u001b[1;33m\u001b[0m\u001b[1;33m\u001b[0m\u001b[0m\n\u001b[0;32m     10\u001b[0m             \u001b[0mid_list\u001b[0m \u001b[1;33m+=\u001b[0m \u001b[0mstr\u001b[0m\u001b[1;33m(\u001b[0m\u001b[0mindex\u001b[0m\u001b[1;33m)\u001b[0m \u001b[1;33m+\u001b[0m \u001b[1;34m\",\"\u001b[0m\u001b[1;33m\u001b[0m\u001b[1;33m\u001b[0m\u001b[0m\n",
      "\u001b[1;32m~\\miniconda3\\lib\\site-packages\\pandas\\core\\series.py\u001b[0m in \u001b[0;36m__getitem__\u001b[1;34m(self, key)\u001b[0m\n\u001b[0;32m   1119\u001b[0m \u001b[1;33m\u001b[0m\u001b[0m\n\u001b[0;32m   1120\u001b[0m         \u001b[1;32melif\u001b[0m \u001b[0mkey_is_scalar\u001b[0m\u001b[1;33m:\u001b[0m\u001b[1;33m\u001b[0m\u001b[1;33m\u001b[0m\u001b[0m\n\u001b[1;32m-> 1121\u001b[1;33m             \u001b[1;32mreturn\u001b[0m \u001b[0mself\u001b[0m\u001b[1;33m.\u001b[0m\u001b[0m_get_value\u001b[0m\u001b[1;33m(\u001b[0m\u001b[0mkey\u001b[0m\u001b[1;33m)\u001b[0m\u001b[1;33m\u001b[0m\u001b[1;33m\u001b[0m\u001b[0m\n\u001b[0m\u001b[0;32m   1122\u001b[0m \u001b[1;33m\u001b[0m\u001b[0m\n\u001b[0;32m   1123\u001b[0m         \u001b[1;31m# Convert generator to list before going through hashable part\u001b[0m\u001b[1;33m\u001b[0m\u001b[1;33m\u001b[0m\u001b[1;33m\u001b[0m\u001b[0m\n",
      "\u001b[1;32m~\\miniconda3\\lib\\site-packages\\pandas\\core\\series.py\u001b[0m in \u001b[0;36m_get_value\u001b[1;34m(self, label, takeable)\u001b[0m\n\u001b[0;32m   1235\u001b[0m \u001b[1;33m\u001b[0m\u001b[0m\n\u001b[0;32m   1236\u001b[0m         \u001b[1;31m# Similar to Index.get_value, but we do not fall back to positional\u001b[0m\u001b[1;33m\u001b[0m\u001b[1;33m\u001b[0m\u001b[1;33m\u001b[0m\u001b[0m\n\u001b[1;32m-> 1237\u001b[1;33m         \u001b[0mloc\u001b[0m \u001b[1;33m=\u001b[0m \u001b[0mself\u001b[0m\u001b[1;33m.\u001b[0m\u001b[0mindex\u001b[0m\u001b[1;33m.\u001b[0m\u001b[0mget_loc\u001b[0m\u001b[1;33m(\u001b[0m\u001b[0mlabel\u001b[0m\u001b[1;33m)\u001b[0m\u001b[1;33m\u001b[0m\u001b[1;33m\u001b[0m\u001b[0m\n\u001b[0m\u001b[0;32m   1238\u001b[0m \u001b[1;33m\u001b[0m\u001b[0m\n\u001b[0;32m   1239\u001b[0m         \u001b[1;32mif\u001b[0m \u001b[0mis_integer\u001b[0m\u001b[1;33m(\u001b[0m\u001b[0mloc\u001b[0m\u001b[1;33m)\u001b[0m\u001b[1;33m:\u001b[0m\u001b[1;33m\u001b[0m\u001b[1;33m\u001b[0m\u001b[0m\n",
      "\u001b[1;32m~\\miniconda3\\lib\\site-packages\\pandas\\core\\indexes\\base.py\u001b[0m in \u001b[0;36mget_loc\u001b[1;34m(self, key)\u001b[0m\n\u001b[0;32m   3801\u001b[0m         \u001b[0marray\u001b[0m\u001b[1;33m(\u001b[0m\u001b[1;33m[\u001b[0m\u001b[1;32mFalse\u001b[0m\u001b[1;33m,\u001b[0m  \u001b[1;32mTrue\u001b[0m\u001b[1;33m,\u001b[0m \u001b[1;32mFalse\u001b[0m\u001b[1;33m,\u001b[0m  \u001b[1;32mTrue\u001b[0m\u001b[1;33m]\u001b[0m\u001b[1;33m)\u001b[0m\u001b[1;33m\u001b[0m\u001b[1;33m\u001b[0m\u001b[0m\n\u001b[0;32m   3802\u001b[0m         \"\"\"\n\u001b[1;32m-> 3803\u001b[1;33m         \u001b[0mcasted_key\u001b[0m \u001b[1;33m=\u001b[0m \u001b[0mself\u001b[0m\u001b[1;33m.\u001b[0m\u001b[0m_maybe_cast_indexer\u001b[0m\u001b[1;33m(\u001b[0m\u001b[0mkey\u001b[0m\u001b[1;33m)\u001b[0m\u001b[1;33m\u001b[0m\u001b[1;33m\u001b[0m\u001b[0m\n\u001b[0m\u001b[0;32m   3804\u001b[0m         \u001b[1;32mtry\u001b[0m\u001b[1;33m:\u001b[0m\u001b[1;33m\u001b[0m\u001b[1;33m\u001b[0m\u001b[0m\n\u001b[0;32m   3805\u001b[0m             \u001b[1;32mreturn\u001b[0m \u001b[0mself\u001b[0m\u001b[1;33m.\u001b[0m\u001b[0m_engine\u001b[0m\u001b[1;33m.\u001b[0m\u001b[0mget_loc\u001b[0m\u001b[1;33m(\u001b[0m\u001b[0mcasted_key\u001b[0m\u001b[1;33m)\u001b[0m\u001b[1;33m\u001b[0m\u001b[1;33m\u001b[0m\u001b[0m\n",
      "\u001b[1;31mKeyboardInterrupt\u001b[0m: "
     ]
    }
   ],
   "source": [
    "#interrupting the kernel by pressin 'i' twice\n",
    "df_lat_lon[\"distance\"] = 0 \n",
    "for idx, row_acc in xy_accidents.iterrows():\n",
    "    lon1 = row_acc[\"lon\"]\n",
    "    lat1 = row_acc[\"lat\"]\n",
    "    id_list = \"\"\n",
    "    for index, row in df_lat_lon.iterrows():\n",
    "        distance = haversine(lat1, lon1, row[\"lat\"], row[\"lon\"])\n",
    "        if distance < 0.03:\n",
    "            id_list += str(index) + \",\" \n",
    "    if id_list:\n",
    "        try:\n",
    "            xy_accidents.loc[idx, \"near_accidents\"] = id_list\n",
    "        except:\n",
    "            print(id_list)"
   ]
  },
  {
   "cell_type": "markdown",
   "id": "960e2ac3",
   "metadata": {},
   "source": [
    "3 datensat -> straßennetz. zu jede strassen segment liegt ein Unfall"
   ]
  },
  {
   "cell_type": "code",
   "execution_count": null,
   "id": "2d19b16e",
   "metadata": {},
   "outputs": [],
   "source": [
    "# schreib ein funktion -> myfunk(row)\n",
    "# lat,lon = row['lat'],row['lon']\n",
    "# does something and returns somethings\n",
    "#df[\" new column\"]=df.apply(myfunc, axis=1) \n",
    "\n",
    "#geopandas"
   ]
  },
  {
   "cell_type": "code",
   "execution_count": null,
   "id": "46d6e779",
   "metadata": {},
   "outputs": [],
   "source": [
    "df_lat_lon[\"distance\"] = 0 \n",
    "\n",
    "for idx, row_acc in xy_accidents.iterrows():\n",
    "    lon1 = row_acc[\"lon\"]\n",
    "    lat1 = row_acc[\"lat\"]\n",
    "    id_list = \"\"\n",
    "    for index, row in df_lat_lon.iterrows():\n",
    "        distance = haversine(lat1, lon1, row[\"lat\"], row[\"lon\"])\n",
    "        if distance < 0.03:\n",
    "            id_list += str(index) + \",\" \n",
    "    if id_list:\n",
    "        try:\n",
    "            xy_accidents.loc[idx, \"near_accidents\"] = id_list\n",
    "        except:\n",
    "            print(id_list)"
   ]
  },
  {
   "cell_type": "code",
   "execution_count": 70,
   "id": "d8da1a96",
   "metadata": {},
   "outputs": [],
   "source": [
    "\n",
    "# Initialize \"near_accidents\" column in xy_accidents\n",
    "xy_accidents[\"near_accidents\"] = \"\"\n",
    "\n",
    "# Iterate over each row in xy_accidents\n",
    "for idx, row_acc in xy_accidents.iterrows():\n",
    "    lon1 = row_acc[\"lon\"]\n",
    "    lat1 = row_acc[\"lat\"]\n",
    "    id_list = []\n",
    "    \n",
    "    # Iterate over each row in df_lat_lon\n",
    "    for index, row in df_lat_lon.iterrows():\n",
    "        distance = haversine(lat1, lon1, row[\"lat\"], row[\"lon\"])\n",
    "        \n",
    "        # Check if the distance is less than 0.03 km\n",
    "        if distance < 0.03:\n",
    "            id_list.append(str(index))\n",
    "    \n",
    "    # Join the indices with commas and update the \"near_accidents\" column\n",
    "    if id_list:\n",
    "        xy_accidents.at[idx, \"near_accidents\"] = \",\".join(id_list)"
   ]
  },
  {
   "cell_type": "code",
   "execution_count": null,
   "id": "19535011",
   "metadata": {},
   "outputs": [],
   "source": [
    "#interrupting the kernel by pressin 'i' twice\n",
    "\"\"\"\n",
    "df_lat_lon[\"distance\"] = 0 \n",
    "for idx, row_acc in xy_accidents.iterrows():\n",
    "    lon1 = row_acc[\"lon\"]\n",
    "    lat1 = row_acc[\"lat\"]\n",
    "    id_list = []\n",
    "    for index, row in df_lat_lon.iterrows():\n",
    "        distance = haversine(lat1, lon1, row[\"lat\"], row[\"lon\"])\n",
    "        if distance < 0.03:\n",
    "            id_list.append(str(index))\n",
    "    if id_list:\n",
    "        try:\n",
    "            xy_accidents.loc[idx, \"near_accidents\"] = id_list\n",
    "        except:\n",
    "            print(id_list)\n",
    "\"\"\""
   ]
  },
  {
   "cell_type": "code",
   "execution_count": 71,
   "id": "ffb87b2b",
   "metadata": {},
   "outputs": [
    {
     "data": {
      "text/html": [
       "<div>\n",
       "<style scoped>\n",
       "    .dataframe tbody tr th:only-of-type {\n",
       "        vertical-align: middle;\n",
       "    }\n",
       "\n",
       "    .dataframe tbody tr th {\n",
       "        vertical-align: top;\n",
       "    }\n",
       "\n",
       "    .dataframe thead th {\n",
       "        text-align: right;\n",
       "    }\n",
       "</style>\n",
       "<table border=\"1\" class=\"dataframe\">\n",
       "  <thead>\n",
       "    <tr style=\"text-align: right;\">\n",
       "      <th></th>\n",
       "      <th>lon</th>\n",
       "      <th>lat</th>\n",
       "      <th>near_accidents</th>\n",
       "    </tr>\n",
       "  </thead>\n",
       "  <tbody>\n",
       "    <tr>\n",
       "      <th>120716</th>\n",
       "      <td>13.385059</td>\n",
       "      <td>52.450000</td>\n",
       "      <td></td>\n",
       "    </tr>\n",
       "    <tr>\n",
       "      <th>120723</th>\n",
       "      <td>13.442681</td>\n",
       "      <td>52.544619</td>\n",
       "      <td></td>\n",
       "    </tr>\n",
       "    <tr>\n",
       "      <th>120727</th>\n",
       "      <td>13.361312</td>\n",
       "      <td>52.569380</td>\n",
       "      <td></td>\n",
       "    </tr>\n",
       "    <tr>\n",
       "      <th>120732</th>\n",
       "      <td>13.359975</td>\n",
       "      <td>52.571973</td>\n",
       "      <td></td>\n",
       "    </tr>\n",
       "    <tr>\n",
       "      <th>120757</th>\n",
       "      <td>13.216693</td>\n",
       "      <td>52.509052</td>\n",
       "      <td></td>\n",
       "    </tr>\n",
       "    <tr>\n",
       "      <th>...</th>\n",
       "      <td>...</td>\n",
       "      <td>...</td>\n",
       "      <td>...</td>\n",
       "    </tr>\n",
       "    <tr>\n",
       "      <th>240978</th>\n",
       "      <td>13.458941</td>\n",
       "      <td>52.526000</td>\n",
       "      <td>10201,13781</td>\n",
       "    </tr>\n",
       "    <tr>\n",
       "      <th>240984</th>\n",
       "      <td>13.376563</td>\n",
       "      <td>52.485035</td>\n",
       "      <td>1142,1469,2846,8764,13484,13701,16710</td>\n",
       "    </tr>\n",
       "    <tr>\n",
       "      <th>241000</th>\n",
       "      <td>13.414152</td>\n",
       "      <td>52.507973</td>\n",
       "      <td>1291,2209,2590,3398,9267,11225,11412,11639,135...</td>\n",
       "    </tr>\n",
       "    <tr>\n",
       "      <th>241008</th>\n",
       "      <td>13.406514</td>\n",
       "      <td>52.513521</td>\n",
       "      <td>8322,8702,15039</td>\n",
       "    </tr>\n",
       "    <tr>\n",
       "      <th>241013</th>\n",
       "      <td>13.336877</td>\n",
       "      <td>52.504219</td>\n",
       "      <td></td>\n",
       "    </tr>\n",
       "  </tbody>\n",
       "</table>\n",
       "<p>4658 rows × 3 columns</p>\n",
       "</div>"
      ],
      "text/plain": [
       "              lon        lat  \\\n",
       "120716  13.385059  52.450000   \n",
       "120723  13.442681  52.544619   \n",
       "120727  13.361312  52.569380   \n",
       "120732  13.359975  52.571973   \n",
       "120757  13.216693  52.509052   \n",
       "...           ...        ...   \n",
       "240978  13.458941  52.526000   \n",
       "240984  13.376563  52.485035   \n",
       "241000  13.414152  52.507973   \n",
       "241008  13.406514  52.513521   \n",
       "241013  13.336877  52.504219   \n",
       "\n",
       "                                           near_accidents  \n",
       "120716                                                     \n",
       "120723                                                     \n",
       "120727                                                     \n",
       "120732                                                     \n",
       "120757                                                     \n",
       "...                                                   ...  \n",
       "240978                                        10201,13781  \n",
       "240984              1142,1469,2846,8764,13484,13701,16710  \n",
       "241000  1291,2209,2590,3398,9267,11225,11412,11639,135...  \n",
       "241008                                    8322,8702,15039  \n",
       "241013                                                     \n",
       "\n",
       "[4658 rows x 3 columns]"
      ]
     },
     "execution_count": 71,
     "metadata": {},
     "output_type": "execute_result"
    }
   ],
   "source": [
    "xy_accidents[~xy_accidents[\"near_accidents\"].isna()]"
   ]
  },
  {
   "cell_type": "code",
   "execution_count": 72,
   "id": "d773ea31",
   "metadata": {},
   "outputs": [],
   "source": [
    "df_near_accidents=xy_accidents[~xy_accidents[\"near_accidents\"].isna()]"
   ]
  },
  {
   "cell_type": "code",
   "execution_count": 73,
   "id": "4840fab5",
   "metadata": {},
   "outputs": [
    {
     "data": {
      "text/html": [
       "<div>\n",
       "<style scoped>\n",
       "    .dataframe tbody tr th:only-of-type {\n",
       "        vertical-align: middle;\n",
       "    }\n",
       "\n",
       "    .dataframe tbody tr th {\n",
       "        vertical-align: top;\n",
       "    }\n",
       "\n",
       "    .dataframe thead th {\n",
       "        text-align: right;\n",
       "    }\n",
       "</style>\n",
       "<table border=\"1\" class=\"dataframe\">\n",
       "  <thead>\n",
       "    <tr style=\"text-align: right;\">\n",
       "      <th></th>\n",
       "      <th>lon</th>\n",
       "      <th>lat</th>\n",
       "      <th>near_accidents</th>\n",
       "    </tr>\n",
       "  </thead>\n",
       "  <tbody>\n",
       "    <tr>\n",
       "      <th>120716</th>\n",
       "      <td>13.385059</td>\n",
       "      <td>52.450000</td>\n",
       "      <td></td>\n",
       "    </tr>\n",
       "    <tr>\n",
       "      <th>120723</th>\n",
       "      <td>13.442681</td>\n",
       "      <td>52.544619</td>\n",
       "      <td></td>\n",
       "    </tr>\n",
       "    <tr>\n",
       "      <th>120727</th>\n",
       "      <td>13.361312</td>\n",
       "      <td>52.569380</td>\n",
       "      <td></td>\n",
       "    </tr>\n",
       "    <tr>\n",
       "      <th>120732</th>\n",
       "      <td>13.359975</td>\n",
       "      <td>52.571973</td>\n",
       "      <td></td>\n",
       "    </tr>\n",
       "    <tr>\n",
       "      <th>120757</th>\n",
       "      <td>13.216693</td>\n",
       "      <td>52.509052</td>\n",
       "      <td></td>\n",
       "    </tr>\n",
       "    <tr>\n",
       "      <th>...</th>\n",
       "      <td>...</td>\n",
       "      <td>...</td>\n",
       "      <td>...</td>\n",
       "    </tr>\n",
       "    <tr>\n",
       "      <th>240978</th>\n",
       "      <td>13.458941</td>\n",
       "      <td>52.526000</td>\n",
       "      <td>10201,13781</td>\n",
       "    </tr>\n",
       "    <tr>\n",
       "      <th>240984</th>\n",
       "      <td>13.376563</td>\n",
       "      <td>52.485035</td>\n",
       "      <td>1142,1469,2846,8764,13484,13701,16710</td>\n",
       "    </tr>\n",
       "    <tr>\n",
       "      <th>241000</th>\n",
       "      <td>13.414152</td>\n",
       "      <td>52.507973</td>\n",
       "      <td>1291,2209,2590,3398,9267,11225,11412,11639,135...</td>\n",
       "    </tr>\n",
       "    <tr>\n",
       "      <th>241008</th>\n",
       "      <td>13.406514</td>\n",
       "      <td>52.513521</td>\n",
       "      <td>8322,8702,15039</td>\n",
       "    </tr>\n",
       "    <tr>\n",
       "      <th>241013</th>\n",
       "      <td>13.336877</td>\n",
       "      <td>52.504219</td>\n",
       "      <td></td>\n",
       "    </tr>\n",
       "  </tbody>\n",
       "</table>\n",
       "<p>4658 rows × 3 columns</p>\n",
       "</div>"
      ],
      "text/plain": [
       "              lon        lat  \\\n",
       "120716  13.385059  52.450000   \n",
       "120723  13.442681  52.544619   \n",
       "120727  13.361312  52.569380   \n",
       "120732  13.359975  52.571973   \n",
       "120757  13.216693  52.509052   \n",
       "...           ...        ...   \n",
       "240978  13.458941  52.526000   \n",
       "240984  13.376563  52.485035   \n",
       "241000  13.414152  52.507973   \n",
       "241008  13.406514  52.513521   \n",
       "241013  13.336877  52.504219   \n",
       "\n",
       "                                           near_accidents  \n",
       "120716                                                     \n",
       "120723                                                     \n",
       "120727                                                     \n",
       "120732                                                     \n",
       "120757                                                     \n",
       "...                                                   ...  \n",
       "240978                                        10201,13781  \n",
       "240984              1142,1469,2846,8764,13484,13701,16710  \n",
       "241000  1291,2209,2590,3398,9267,11225,11412,11639,135...  \n",
       "241008                                    8322,8702,15039  \n",
       "241013                                                     \n",
       "\n",
       "[4658 rows x 3 columns]"
      ]
     },
     "execution_count": 73,
     "metadata": {},
     "output_type": "execute_result"
    }
   ],
   "source": [
    "df_near_accidents"
   ]
  },
  {
   "cell_type": "code",
   "execution_count": null,
   "id": "f9c1f063",
   "metadata": {},
   "outputs": [],
   "source": [
    "df_near_accidents.to"
   ]
  },
  {
   "cell_type": "code",
   "execution_count": 33,
   "id": "85833368",
   "metadata": {},
   "outputs": [
    {
     "data": {
      "text/html": [
       "<div>\n",
       "<style scoped>\n",
       "    .dataframe tbody tr th:only-of-type {\n",
       "        vertical-align: middle;\n",
       "    }\n",
       "\n",
       "    .dataframe tbody tr th {\n",
       "        vertical-align: top;\n",
       "    }\n",
       "\n",
       "    .dataframe thead th {\n",
       "        text-align: right;\n",
       "    }\n",
       "</style>\n",
       "<table border=\"1\" class=\"dataframe\">\n",
       "  <thead>\n",
       "    <tr style=\"text-align: right;\">\n",
       "      <th></th>\n",
       "      <th>lat</th>\n",
       "      <th>lon</th>\n",
       "      <th>distance</th>\n",
       "    </tr>\n",
       "  </thead>\n",
       "  <tbody>\n",
       "    <tr>\n",
       "      <th>13769</th>\n",
       "      <td>52.449726</td>\n",
       "      <td>13.384963</td>\n",
       "      <td>0.03114</td>\n",
       "    </tr>\n",
       "  </tbody>\n",
       "</table>\n",
       "</div>"
      ],
      "text/plain": [
       "             lat        lon  distance\n",
       "13769  52.449726  13.384963   0.03114"
      ]
     },
     "execution_count": 33,
     "metadata": {},
     "output_type": "execute_result"
    }
   ],
   "source": [
    "df_lat_lon[df_lat_lon[\"distance\"] < 0.04]"
   ]
  },
  {
   "cell_type": "code",
   "execution_count": null,
   "id": "300fa83a",
   "metadata": {},
   "outputs": [],
   "source": []
  }
 ],
 "metadata": {
  "kernelspec": {
   "display_name": "Python 3",
   "language": "python",
   "name": "python3"
  },
  "language_info": {
   "codemirror_mode": {
    "name": "ipython",
    "version": 3
   },
   "file_extension": ".py",
   "mimetype": "text/x-python",
   "name": "python",
   "nbconvert_exporter": "python",
   "pygments_lexer": "ipython3",
   "version": "3.9.1"
  }
 },
 "nbformat": 4,
 "nbformat_minor": 5
}
