{
 "cells": [
  {
   "cell_type": "markdown",
   "id": "79eaa069",
   "metadata": {},
   "source": [
    "### Accident table head\n",
    "\n",
    "Index(['OBJECTID', 'UIDENTSTLAE', 'ULAND', 'UREGBEZ', 'UKREIS', 'UGEMEINDE',\n",
    "       'UJAHR', 'UMONAT', 'USTUNDE', 'UWOCHENTAG', 'UKATEGORIE', 'UART',\n",
    "       'UTYP1', 'ULICHTVERH', 'IstStrassenzustand', 'IstRad', 'IstPKW',\n",
    "       'IstFuss', 'IstKrad', 'IstGkfz', 'IstSonstige', 'LINREFX', 'LINREFY',\n",
    "       'XGCSWGS84', 'YGCSWGS84'],\n",
    "      dtype='object')\n",
    "      \n",
    "     \n",
    "      "
   ]
  },
  {
   "cell_type": "markdown",
   "id": "bb797f4e",
   "metadata": {},
   "source": [
    "  ### Nearly accident Table head\n",
    "  \n",
    "  Index(['lat', 'lon', 'ts', 'bike', 'childCheckBox', 'trailerCheckBox', 'pLoc',\n",
    "       'incident', 'i1', 'i2', 'i3', 'i4', 'i5', 'i6', 'i7', 'i8', 'i9',\n",
    "       'scary', 'desc', 'i10', 'region'],\n",
    "      dtype='object')"
   ]
  },
  {
   "cell_type": "markdown",
   "id": "af36d14b",
   "metadata": {},
   "source": [
    "- What columns(features) do they have in common?\n",
    "- Which features are the most important?\n",
    "- How can we merge the table \n",
    "- How does a decision tree model work?\n"
   ]
  }
 ],
 "metadata": {
  "kernelspec": {
   "display_name": "Python 3",
   "language": "python",
   "name": "python3"
  },
  "language_info": {
   "codemirror_mode": {
    "name": "ipython",
    "version": 3
   },
   "file_extension": ".py",
   "mimetype": "text/x-python",
   "name": "python",
   "nbconvert_exporter": "python",
   "pygments_lexer": "ipython3",
   "version": "3.9.1"
  }
 },
 "nbformat": 4,
 "nbformat_minor": 5
}
