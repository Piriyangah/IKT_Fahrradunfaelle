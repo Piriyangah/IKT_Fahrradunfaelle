{
 "cells": [
  {
   "cell_type": "code",
   "execution_count": 2,
   "id": "71469bc3",
   "metadata": {},
   "outputs": [],
   "source": [
    "import pandas as pd \n",
    "from os import path"
   ]
  },
  {
   "cell_type": "code",
   "execution_count": 3,
   "id": "fd22688d",
   "metadata": {},
   "outputs": [],
   "source": [
    "from glob import glob"
   ]
  },
  {
   "cell_type": "code",
   "execution_count": 4,
   "id": "75eab1d0",
   "metadata": {},
   "outputs": [
    {
     "data": {
      "text/plain": [
       "['data\\\\Berlin-incidents.csv']"
      ]
     },
     "execution_count": 4,
     "metadata": {},
     "output_type": "execute_result"
    }
   ],
   "source": [
    "glob(\"data/*.csv\")"
   ]
  },
  {
   "cell_type": "code",
   "execution_count": 5,
   "id": "dd9d8543",
   "metadata": {},
   "outputs": [],
   "source": [
    "df = pd.read_csv('data\\Berlin-incidents.csv', on_bad_lines='skip')\n",
    "#df = pd.read_csv('data\\Berlin-incidents.csv', sep=\"\\t\", lineterminator='\\r') decimal=',' skipinitialspace=True,"
   ]
  },
  {
   "cell_type": "code",
   "execution_count": 6,
   "id": "5d9500cb",
   "metadata": {
    "scrolled": true
   },
   "outputs": [
    {
     "data": {
      "text/html": [
       "<div>\n",
       "<style scoped>\n",
       "    .dataframe tbody tr th:only-of-type {\n",
       "        vertical-align: middle;\n",
       "    }\n",
       "\n",
       "    .dataframe tbody tr th {\n",
       "        vertical-align: top;\n",
       "    }\n",
       "\n",
       "    .dataframe thead th {\n",
       "        text-align: right;\n",
       "    }\n",
       "</style>\n",
       "<table border=\"1\" class=\"dataframe\">\n",
       "  <thead>\n",
       "    <tr style=\"text-align: right;\">\n",
       "      <th></th>\n",
       "      <th>lat</th>\n",
       "      <th>lon</th>\n",
       "      <th>ts</th>\n",
       "      <th>bike</th>\n",
       "      <th>childCheckBox</th>\n",
       "      <th>trailerCheckBox</th>\n",
       "      <th>pLoc</th>\n",
       "      <th>incident</th>\n",
       "      <th>i1</th>\n",
       "      <th>i2</th>\n",
       "      <th>...</th>\n",
       "      <th>i4</th>\n",
       "      <th>i5</th>\n",
       "      <th>i6</th>\n",
       "      <th>i7</th>\n",
       "      <th>i8</th>\n",
       "      <th>i9</th>\n",
       "      <th>scary</th>\n",
       "      <th>desc</th>\n",
       "      <th>i10</th>\n",
       "      <th>region</th>\n",
       "    </tr>\n",
       "  </thead>\n",
       "  <tbody>\n",
       "    <tr>\n",
       "      <th>0</th>\n",
       "      <td>52.532325</td>\n",
       "      <td>13.394867</td>\n",
       "      <td>1572971392862</td>\n",
       "      <td>1.0</td>\n",
       "      <td>0</td>\n",
       "      <td>0</td>\n",
       "      <td>5.0</td>\n",
       "      <td>1</td>\n",
       "      <td>0</td>\n",
       "      <td>0</td>\n",
       "      <td>...</td>\n",
       "      <td>0</td>\n",
       "      <td>0</td>\n",
       "      <td>0</td>\n",
       "      <td>1</td>\n",
       "      <td>0</td>\n",
       "      <td>0</td>\n",
       "      <td>0</td>\n",
       "      <td>NaN</td>\n",
       "      <td>0</td>\n",
       "      <td>Berlin</td>\n",
       "    </tr>\n",
       "    <tr>\n",
       "      <th>1</th>\n",
       "      <td>52.583117</td>\n",
       "      <td>13.428656</td>\n",
       "      <td>1574096883339</td>\n",
       "      <td>1.0</td>\n",
       "      <td>0</td>\n",
       "      <td>0</td>\n",
       "      <td>1.0</td>\n",
       "      <td>4</td>\n",
       "      <td>0</td>\n",
       "      <td>0</td>\n",
       "      <td>...</td>\n",
       "      <td>0</td>\n",
       "      <td>0</td>\n",
       "      <td>0</td>\n",
       "      <td>1</td>\n",
       "      <td>0</td>\n",
       "      <td>0</td>\n",
       "      <td>0</td>\n",
       "      <td>NaN</td>\n",
       "      <td>0</td>\n",
       "      <td>Berlin</td>\n",
       "    </tr>\n",
       "    <tr>\n",
       "      <th>2</th>\n",
       "      <td>52.532983</td>\n",
       "      <td>13.329724</td>\n",
       "      <td>1574094864375</td>\n",
       "      <td>1.0</td>\n",
       "      <td>0</td>\n",
       "      <td>0</td>\n",
       "      <td>1.0</td>\n",
       "      <td>3</td>\n",
       "      <td>0</td>\n",
       "      <td>0</td>\n",
       "      <td>...</td>\n",
       "      <td>0</td>\n",
       "      <td>0</td>\n",
       "      <td>0</td>\n",
       "      <td>1</td>\n",
       "      <td>0</td>\n",
       "      <td>0</td>\n",
       "      <td>0</td>\n",
       "      <td>NaN</td>\n",
       "      <td>0</td>\n",
       "      <td>Berlin</td>\n",
       "    </tr>\n",
       "    <tr>\n",
       "      <th>3</th>\n",
       "      <td>52.554064</td>\n",
       "      <td>13.383081</td>\n",
       "      <td>1574095749659</td>\n",
       "      <td>1.0</td>\n",
       "      <td>0</td>\n",
       "      <td>0</td>\n",
       "      <td>1.0</td>\n",
       "      <td>2</td>\n",
       "      <td>0</td>\n",
       "      <td>0</td>\n",
       "      <td>...</td>\n",
       "      <td>0</td>\n",
       "      <td>0</td>\n",
       "      <td>0</td>\n",
       "      <td>1</td>\n",
       "      <td>0</td>\n",
       "      <td>0</td>\n",
       "      <td>1</td>\n",
       "      <td>NaN</td>\n",
       "      <td>0</td>\n",
       "      <td>Berlin</td>\n",
       "    </tr>\n",
       "    <tr>\n",
       "      <th>4</th>\n",
       "      <td>52.439985</td>\n",
       "      <td>13.245853</td>\n",
       "      <td>1573196026398</td>\n",
       "      <td>7.0</td>\n",
       "      <td>0</td>\n",
       "      <td>0</td>\n",
       "      <td>2.0</td>\n",
       "      <td>1</td>\n",
       "      <td>0</td>\n",
       "      <td>0</td>\n",
       "      <td>...</td>\n",
       "      <td>0</td>\n",
       "      <td>0</td>\n",
       "      <td>0</td>\n",
       "      <td>1</td>\n",
       "      <td>0</td>\n",
       "      <td>0</td>\n",
       "      <td>0</td>\n",
       "      <td>mehrere</td>\n",
       "      <td>0</td>\n",
       "      <td>Berlin</td>\n",
       "    </tr>\n",
       "    <tr>\n",
       "      <th>...</th>\n",
       "      <td>...</td>\n",
       "      <td>...</td>\n",
       "      <td>...</td>\n",
       "      <td>...</td>\n",
       "      <td>...</td>\n",
       "      <td>...</td>\n",
       "      <td>...</td>\n",
       "      <td>...</td>\n",
       "      <td>...</td>\n",
       "      <td>...</td>\n",
       "      <td>...</td>\n",
       "      <td>...</td>\n",
       "      <td>...</td>\n",
       "      <td>...</td>\n",
       "      <td>...</td>\n",
       "      <td>...</td>\n",
       "      <td>...</td>\n",
       "      <td>...</td>\n",
       "      <td>...</td>\n",
       "      <td>...</td>\n",
       "      <td>...</td>\n",
       "    </tr>\n",
       "    <tr>\n",
       "      <th>17221</th>\n",
       "      <td>52.537928</td>\n",
       "      <td>13.373174</td>\n",
       "      <td>1662323393000</td>\n",
       "      <td>1.0</td>\n",
       "      <td>0</td>\n",
       "      <td>0</td>\n",
       "      <td>0.0</td>\n",
       "      <td>7</td>\n",
       "      <td>0</td>\n",
       "      <td>0</td>\n",
       "      <td>...</td>\n",
       "      <td>0</td>\n",
       "      <td>0</td>\n",
       "      <td>0</td>\n",
       "      <td>0</td>\n",
       "      <td>1</td>\n",
       "      <td>0</td>\n",
       "      <td>0</td>\n",
       "      <td>Hält auf Radstreifen</td>\n",
       "      <td>0</td>\n",
       "      <td>Berlin</td>\n",
       "    </tr>\n",
       "    <tr>\n",
       "      <th>17222</th>\n",
       "      <td>52.537111</td>\n",
       "      <td>13.374178</td>\n",
       "      <td>1662845622000</td>\n",
       "      <td>1.0</td>\n",
       "      <td>0</td>\n",
       "      <td>0</td>\n",
       "      <td>0.0</td>\n",
       "      <td>7</td>\n",
       "      <td>0</td>\n",
       "      <td>0</td>\n",
       "      <td>...</td>\n",
       "      <td>0</td>\n",
       "      <td>0</td>\n",
       "      <td>0</td>\n",
       "      <td>1</td>\n",
       "      <td>0</td>\n",
       "      <td>0</td>\n",
       "      <td>0</td>\n",
       "      <td>Radstreifen zugeparkt</td>\n",
       "      <td>0</td>\n",
       "      <td>Berlin</td>\n",
       "    </tr>\n",
       "    <tr>\n",
       "      <th>17223</th>\n",
       "      <td>52.528078</td>\n",
       "      <td>13.386095</td>\n",
       "      <td>1662845257000</td>\n",
       "      <td>1.0</td>\n",
       "      <td>0</td>\n",
       "      <td>0</td>\n",
       "      <td>0.0</td>\n",
       "      <td>1</td>\n",
       "      <td>0</td>\n",
       "      <td>0</td>\n",
       "      <td>...</td>\n",
       "      <td>0</td>\n",
       "      <td>0</td>\n",
       "      <td>0</td>\n",
       "      <td>1</td>\n",
       "      <td>0</td>\n",
       "      <td>0</td>\n",
       "      <td>0</td>\n",
       "      <td>NaN</td>\n",
       "      <td>0</td>\n",
       "      <td>Berlin</td>\n",
       "    </tr>\n",
       "    <tr>\n",
       "      <th>17224</th>\n",
       "      <td>52.505382</td>\n",
       "      <td>13.386546</td>\n",
       "      <td>1663697230000</td>\n",
       "      <td>1.0</td>\n",
       "      <td>0</td>\n",
       "      <td>0</td>\n",
       "      <td>1.0</td>\n",
       "      <td>1</td>\n",
       "      <td>0</td>\n",
       "      <td>0</td>\n",
       "      <td>...</td>\n",
       "      <td>1</td>\n",
       "      <td>0</td>\n",
       "      <td>0</td>\n",
       "      <td>1</td>\n",
       "      <td>1</td>\n",
       "      <td>0</td>\n",
       "      <td>1</td>\n",
       "      <td>many extremely close passes and dooring risk</td>\n",
       "      <td>0</td>\n",
       "      <td>Berlin</td>\n",
       "    </tr>\n",
       "    <tr>\n",
       "      <th>17225</th>\n",
       "      <td>52.513111</td>\n",
       "      <td>13.382478</td>\n",
       "      <td>1663696969000</td>\n",
       "      <td>1.0</td>\n",
       "      <td>0</td>\n",
       "      <td>0</td>\n",
       "      <td>1.0</td>\n",
       "      <td>1</td>\n",
       "      <td>0</td>\n",
       "      <td>0</td>\n",
       "      <td>...</td>\n",
       "      <td>1</td>\n",
       "      <td>0</td>\n",
       "      <td>0</td>\n",
       "      <td>1</td>\n",
       "      <td>1</td>\n",
       "      <td>0</td>\n",
       "      <td>1</td>\n",
       "      <td>many close passes and dooring risk</td>\n",
       "      <td>0</td>\n",
       "      <td>Berlin</td>\n",
       "    </tr>\n",
       "  </tbody>\n",
       "</table>\n",
       "<p>17226 rows × 21 columns</p>\n",
       "</div>"
      ],
      "text/plain": [
       "             lat        lon             ts  bike  childCheckBox  \\\n",
       "0      52.532325  13.394867  1572971392862   1.0              0   \n",
       "1      52.583117  13.428656  1574096883339   1.0              0   \n",
       "2      52.532983  13.329724  1574094864375   1.0              0   \n",
       "3      52.554064  13.383081  1574095749659   1.0              0   \n",
       "4      52.439985  13.245853  1573196026398   7.0              0   \n",
       "...          ...        ...            ...   ...            ...   \n",
       "17221  52.537928  13.373174  1662323393000   1.0              0   \n",
       "17222  52.537111  13.374178  1662845622000   1.0              0   \n",
       "17223  52.528078  13.386095  1662845257000   1.0              0   \n",
       "17224  52.505382  13.386546  1663697230000   1.0              0   \n",
       "17225  52.513111  13.382478  1663696969000   1.0              0   \n",
       "\n",
       "       trailerCheckBox  pLoc  incident  i1  i2  ...  i4  i5  i6  i7  i8  i9  \\\n",
       "0                    0   5.0         1   0   0  ...   0   0   0   1   0   0   \n",
       "1                    0   1.0         4   0   0  ...   0   0   0   1   0   0   \n",
       "2                    0   1.0         3   0   0  ...   0   0   0   1   0   0   \n",
       "3                    0   1.0         2   0   0  ...   0   0   0   1   0   0   \n",
       "4                    0   2.0         1   0   0  ...   0   0   0   1   0   0   \n",
       "...                ...   ...       ...  ..  ..  ...  ..  ..  ..  ..  ..  ..   \n",
       "17221                0   0.0         7   0   0  ...   0   0   0   0   1   0   \n",
       "17222                0   0.0         7   0   0  ...   0   0   0   1   0   0   \n",
       "17223                0   0.0         1   0   0  ...   0   0   0   1   0   0   \n",
       "17224                0   1.0         1   0   0  ...   1   0   0   1   1   0   \n",
       "17225                0   1.0         1   0   0  ...   1   0   0   1   1   0   \n",
       "\n",
       "       scary                                          desc i10  region  \n",
       "0          0                                           NaN   0  Berlin  \n",
       "1          0                                           NaN   0  Berlin  \n",
       "2          0                                           NaN   0  Berlin  \n",
       "3          1                                           NaN   0  Berlin  \n",
       "4          0                                      mehrere    0  Berlin  \n",
       "...      ...                                           ...  ..     ...  \n",
       "17221      0                         Hält auf Radstreifen    0  Berlin  \n",
       "17222      0                        Radstreifen zugeparkt    0  Berlin  \n",
       "17223      0                                           NaN   0  Berlin  \n",
       "17224      1  many extremely close passes and dooring risk   0  Berlin  \n",
       "17225      1            many close passes and dooring risk   0  Berlin  \n",
       "\n",
       "[17226 rows x 21 columns]"
      ]
     },
     "execution_count": 6,
     "metadata": {},
     "output_type": "execute_result"
    }
   ],
   "source": [
    "df"
   ]
  },
  {
   "cell_type": "code",
   "execution_count": 7,
   "id": "03c20fc5",
   "metadata": {},
   "outputs": [
    {
     "data": {
      "text/plain": [
       "Index(['lat', 'lon', 'ts', 'bike', 'childCheckBox', 'trailerCheckBox', 'pLoc',\n",
       "       'incident', 'i1', 'i2', 'i3', 'i4', 'i5', 'i6', 'i7', 'i8', 'i9',\n",
       "       'scary', 'desc', 'i10', 'region'],\n",
       "      dtype='object')"
      ]
     },
     "execution_count": 7,
     "metadata": {},
     "output_type": "execute_result"
    }
   ],
   "source": [
    "df.columns"
   ]
  },
  {
   "cell_type": "code",
   "execution_count": 8,
   "id": "f58336ad",
   "metadata": {},
   "outputs": [
    {
     "data": {
      "text/plain": [
       "(17226, 21)"
      ]
     },
     "execution_count": 8,
     "metadata": {},
     "output_type": "execute_result"
    }
   ],
   "source": [
    "df.shape"
   ]
  },
  {
   "cell_type": "markdown",
   "id": "50e44ddc",
   "metadata": {},
   "source": [
    "\n",
    "### Table column  &rarr; meaning\n",
    "\n",
    "key: number of the incidents (starts at 0)\n",
    "lat/lon: latitude and longitude (GPS location)\n",
    "ts: timestamp (number of milliseconds from epoch)\n",
    "\n",
    "desc: text description of the incident."
   ]
  },
  {
   "cell_type": "code",
   "execution_count": 70,
   "id": "fb8a353a",
   "metadata": {},
   "outputs": [
    {
     "data": {
      "text/plain": [
       "lat\n",
       "52.457810    8\n",
       "52.486983    8\n",
       "52.497731    8\n",
       "52.497475    8\n",
       "52.497317    8\n",
       "            ..\n",
       "52.533885    1\n",
       "52.505779    1\n",
       "52.502994    1\n",
       "52.519857    1\n",
       "52.513111    1\n",
       "Name: count, Length: 16977, dtype: int64"
      ]
     },
     "execution_count": 70,
     "metadata": {},
     "output_type": "execute_result"
    }
   ],
   "source": [
    "df['lat'].value_counts()"
   ]
  },
  {
   "cell_type": "code",
   "execution_count": 71,
   "id": "b1217cf5",
   "metadata": {},
   "outputs": [
    {
     "data": {
      "text/plain": [
       "lon\n",
       "13.292275    8\n",
       "13.290938    8\n",
       "13.293746    8\n",
       "13.284268    8\n",
       "13.273810    8\n",
       "            ..\n",
       "13.204573    1\n",
       "13.371008    1\n",
       "13.372726    1\n",
       "13.378040    1\n",
       "13.382478    1\n",
       "Name: count, Length: 16986, dtype: int64"
      ]
     },
     "execution_count": 71,
     "metadata": {},
     "output_type": "execute_result"
    }
   ],
   "source": [
    "df['lon'].value_counts()"
   ]
  },
  {
   "cell_type": "code",
   "execution_count": 73,
   "id": "52807c1b",
   "metadata": {},
   "outputs": [
    {
     "data": {
      "text/plain": [
       "ts\n",
       "1575046247116    8\n",
       "1575045751157    8\n",
       "1575045447936    8\n",
       "1575045411016    8\n",
       "1575045395717    8\n",
       "                ..\n",
       "1591701801038    1\n",
       "1591545604194    1\n",
       "1591544760852    1\n",
       "1591544895243    1\n",
       "1663696969000    1\n",
       "Name: count, Length: 17014, dtype: int64"
      ]
     },
     "execution_count": 73,
     "metadata": {},
     "output_type": "execute_result"
    }
   ],
   "source": [
    "df['ts'].value_counts()"
   ]
  },
  {
   "cell_type": "code",
   "execution_count": 74,
   "id": "6a9073bb",
   "metadata": {},
   "outputs": [
    {
     "data": {
      "text/plain": [
       "bike\n",
       "1.0    9972\n",
       "2.0    2183\n",
       "0.0    1924\n",
       "7.0     721\n",
       "3.0     573\n",
       "5.0     208\n",
       "4.0       3\n",
       "6.0       1\n",
       "Name: count, dtype: int64"
      ]
     },
     "execution_count": 74,
     "metadata": {},
     "output_type": "execute_result"
    }
   ],
   "source": [
    "df['bike'].value_counts()"
   ]
  },
  {
   "cell_type": "markdown",
   "id": "6739fe4e",
   "metadata": {},
   "source": [
    "### bike: type of bicycle:\n",
    "\n",
    "- 0 = not chosen\n",
    "- 1 = City-/Trekking Bike\n",
    "- 2 = Road Racing Bike\n",
    "- 3 = E-Bike\n",
    "- 4 = Recumbent Bicycle\n",
    "- 5 = Freight Bicycle\n",
    "- 6 = Tandem Bicycle\n",
    "- 7 = Mountainbike\n",
    "- 8 = Other"
   ]
  },
  {
   "cell_type": "code",
   "execution_count": 75,
   "id": "fc131a3e",
   "metadata": {},
   "outputs": [
    {
     "data": {
      "text/plain": [
       "childCheckBox\n",
       "0    17026\n",
       "1      200\n",
       "Name: count, dtype: int64"
      ]
     },
     "execution_count": 75,
     "metadata": {},
     "output_type": "execute_result"
    }
   ],
   "source": [
    "df['childCheckBox'].value_counts()"
   ]
  },
  {
   "cell_type": "markdown",
   "id": "fbb10751",
   "metadata": {},
   "source": [
    "### childCheckBox:\n",
    "\n",
    "0, if no child is being transported on the bike, 1 otherwise."
   ]
  },
  {
   "cell_type": "code",
   "execution_count": 76,
   "id": "8cbe3ef1",
   "metadata": {
    "scrolled": true
   },
   "outputs": [
    {
     "data": {
      "text/plain": [
       "trailerCheckBox\n",
       "0    17200\n",
       "1       26\n",
       "Name: count, dtype: int64"
      ]
     },
     "execution_count": 76,
     "metadata": {},
     "output_type": "execute_result"
    }
   ],
   "source": [
    "df['trailerCheckBox'].value_counts()"
   ]
  },
  {
   "cell_type": "markdown",
   "id": "389f78e8",
   "metadata": {},
   "source": [
    "### trailerCheckBox: \n",
    "\n",
    "0, if no trailer is attached at the bike,1 otherwise."
   ]
  },
  {
   "cell_type": "code",
   "execution_count": 77,
   "id": "1805f47a",
   "metadata": {},
   "outputs": [
    {
     "data": {
      "text/plain": [
       "pLoc\n",
       "0.0    9665\n",
       "2.0    2645\n",
       "1.0    1515\n",
       "4.0     885\n",
       "5.0     836\n",
       "6.0      39\n",
       "Name: count, dtype: int64"
      ]
     },
     "execution_count": 77,
     "metadata": {},
     "output_type": "execute_result"
    }
   ],
   "source": [
    "df['pLoc'].value_counts()"
   ]
  },
  {
   "cell_type": "markdown",
   "id": "4afd90d2",
   "metadata": {},
   "source": [
    "### pLoc: &rarr; Phone Location\n",
    "#### Location of the phone during the ride:\n",
    "\n",
    "- 0 = Pocket (default value)\n",
    "- 1 = Handlebar\n",
    "- 2 = Jacket pocket\n",
    "- 3 = Hand\n",
    "- 4 = Basket/Pannier\n",
    "- 5 = Backpack/Bag\n",
    "- 6 = Other"
   ]
  },
  {
   "cell_type": "code",
   "execution_count": null,
   "id": "24e43304",
   "metadata": {},
   "outputs": [],
   "source": [
    "from matplotlib import pyplot as plt\n",
    "import numpy as np\n"
   ]
  },
  {
   "cell_type": "code",
   "execution_count": 9,
   "id": "87bead50",
   "metadata": {},
   "outputs": [
    {
     "data": {
      "text/plain": [
       "<Axes: title={'center': 'Phone Location'}, xlabel='pLoc'>"
      ]
     },
     "execution_count": 9,
     "metadata": {},
     "output_type": "execute_result"
    },
    {
     "data": {
      "image/png": "[encoded data removed]",
      "text/plain": [
       "<Figure size 432x288 with 1 Axes>"
      ]
     },
     "metadata": {
      "needs_background": "light"
     },
     "output_type": "display_data"
    }
   ],
   "source": [
    "df['pLoc'].value_counts().plot(kind=\"bar\", title='Phone Location')\n"
   ]
  },
  {
   "cell_type": "code",
   "execution_count": 78,
   "id": "adb93091",
   "metadata": {},
   "outputs": [
    {
     "data": {
      "text/plain": [
       "incident\n",
       "1    8611\n",
       "7    3024\n",
       "5    1313\n",
       "8    1263\n",
       "3    1204\n",
       "4    1004\n",
       "2     657\n",
       "6     150\n",
       "Name: count, dtype: int64"
      ]
     },
     "execution_count": 78,
     "metadata": {},
     "output_type": "execute_result"
    }
   ],
   "source": [
    "df['incident'].value_counts()"
   ]
  },
  {
   "cell_type": "markdown",
   "id": "4c88ebe3",
   "metadata": {},
   "source": [
    "### incident: Type of incident:\n",
    "\n",
    "- -5 = Dummy incident (if no incident is set, this is created to preserve bike, pLoc, childCheckBox and trailerCheckBox info)\n",
    "- 0 = Nothing (default value)\n",
    "- 1 = Close Pass\n",
    "- 2 = Someone pulling in or out\n",
    "- 3 = Near left or right hook\n",
    "- 4 = Someone approaching head on\n",
    "- 5 = Tailgating\n",
    "- 6 = Near-Dooring\n",
    "- 7 = Dodging an obstacle (e.g., a dog)\n",
    "- 8 = Other (Please specify below)\n"
   ]
  },
  {
   "cell_type": "markdown",
   "id": "d998769e",
   "metadata": {},
   "source": [
    "#### i1-i10 are other participants involved in the incident. 1, if the according type of participant was involved, 0 otherwise.\n",
    "\n",
    "- i1 = Bus/Coach\n",
    "- i2 = Cyclist\n",
    "- i3 = Pedestrian\n",
    "- i4 = Delivery Van\n",
    "- i5 = Lorry/Truck\n",
    "- i6 = Motorcyclist\n",
    "- i7 = Car\n",
    "- i8 = Taxi/Cab\n",
    "- i9 = Other\n",
    "- i10 = Electric Scooter"
   ]
  },
  {
   "cell_type": "code",
   "execution_count": 80,
   "id": "368c527f",
   "metadata": {},
   "outputs": [
    {
     "data": {
      "text/plain": [
       "i1\n",
       "0    16908\n",
       "1      318\n",
       "Name: count, dtype: int64"
      ]
     },
     "execution_count": 80,
     "metadata": {},
     "output_type": "execute_result"
    }
   ],
   "source": [
    "# i1 = Bus/Coach\n",
    "df['i1'].value_counts()"
   ]
  },
  {
   "cell_type": "code",
   "execution_count": 82,
   "id": "a62a4a56",
   "metadata": {},
   "outputs": [
    {
     "data": {
      "text/plain": [
       "i2\n",
       "0    16222\n",
       "1     1004\n",
       "Name: count, dtype: int64"
      ]
     },
     "execution_count": 82,
     "metadata": {},
     "output_type": "execute_result"
    }
   ],
   "source": [
    "#i2 = Cyclist\n",
    "\n",
    "df['i2'].value_counts()"
   ]
  },
  {
   "cell_type": "code",
   "execution_count": 84,
   "id": "d18dab1d",
   "metadata": {},
   "outputs": [
    {
     "data": {
      "text/plain": [
       "i3\n",
       "0    16542\n",
       "1      684\n",
       "Name: count, dtype: int64"
      ]
     },
     "execution_count": 84,
     "metadata": {},
     "output_type": "execute_result"
    }
   ],
   "source": [
    "#i3 = Pedestrian\n",
    "\n",
    "df['i3'].value_counts()"
   ]
  },
  {
   "cell_type": "code",
   "execution_count": 86,
   "id": "5770dfaa",
   "metadata": {},
   "outputs": [
    {
     "data": {
      "text/plain": [
       "i4\n",
       "0    15631\n",
       "1     1595\n",
       "Name: count, dtype: int64"
      ]
     },
     "execution_count": 86,
     "metadata": {},
     "output_type": "execute_result"
    }
   ],
   "source": [
    "#i4 = Delivery Van\n",
    "\n",
    "df['i4'].value_counts()"
   ]
  },
  {
   "cell_type": "code",
   "execution_count": 87,
   "id": "af2a0848",
   "metadata": {},
   "outputs": [
    {
     "data": {
      "text/plain": [
       "i5\n",
       "0    16585\n",
       "1      641\n",
       "Name: count, dtype: int64"
      ]
     },
     "execution_count": 87,
     "metadata": {},
     "output_type": "execute_result"
    }
   ],
   "source": [
    "#i5 = Lorry/Truck\n",
    "\n",
    "df['i5'].value_counts()"
   ]
  },
  {
   "cell_type": "code",
   "execution_count": 88,
   "id": "08496cea",
   "metadata": {},
   "outputs": [
    {
     "data": {
      "text/plain": [
       "i6\n",
       "0    17069\n",
       "1      157\n",
       "Name: count, dtype: int64"
      ]
     },
     "execution_count": 88,
     "metadata": {},
     "output_type": "execute_result"
    }
   ],
   "source": [
    "#i6 = Motorcyclist\n",
    "\n",
    "df['i6'].value_counts()"
   ]
  },
  {
   "cell_type": "code",
   "execution_count": 90,
   "id": "1e4b7cfa",
   "metadata": {},
   "outputs": [
    {
     "data": {
      "text/plain": [
       "i7\n",
       "1    10324\n",
       "0     6902\n",
       "Name: count, dtype: int64"
      ]
     },
     "execution_count": 90,
     "metadata": {},
     "output_type": "execute_result"
    }
   ],
   "source": [
    "#i7 = Car\n",
    "\n",
    "df['i7'].value_counts()"
   ]
  },
  {
   "cell_type": "code",
   "execution_count": 91,
   "id": "98cb7db1",
   "metadata": {},
   "outputs": [
    {
     "data": {
      "text/plain": [
       "i8\n",
       "0    16385\n",
       "1      841\n",
       "Name: count, dtype: int64"
      ]
     },
     "execution_count": 91,
     "metadata": {},
     "output_type": "execute_result"
    }
   ],
   "source": [
    "# i8 = Taxi/Cab\n",
    "\n",
    "df['i8'].value_counts()"
   ]
  },
  {
   "cell_type": "code",
   "execution_count": 92,
   "id": "c7449cc8",
   "metadata": {},
   "outputs": [
    {
     "data": {
      "text/plain": [
       "i9\n",
       "0    16922\n",
       "1      304\n",
       "Name: count, dtype: int64"
      ]
     },
     "execution_count": 92,
     "metadata": {},
     "output_type": "execute_result"
    }
   ],
   "source": [
    "# i9 = Other\n",
    "\n",
    "df['i9'].value_counts()"
   ]
  },
  {
   "cell_type": "markdown",
   "id": "06d34133",
   "metadata": {},
   "source": [
    "- i1 = Bus/Coach  &rarr; 318\n",
    "- i2 = Cyclist &rarr; 1004\n",
    "- i3 = Pedestrian  &rarr; 684\n",
    "- i4 = Delivery Van  &rarr; 1595\n",
    "- i5 = Lorry/Truck &rarr; 641\n",
    "- i6 = Motorcyclist &rarr; 157\n",
    "- i7 = Car &rarr; 6902\n",
    "- i8 = Taxi/Cab &rarr; 841\n",
    "- i9 = Other  &rarr; 304\n",
    "- i10 = Electric Scooter \n",
    "\n",
    "\n",
    "- most involved participant ( first 3)\n",
    "  - car &rarr; 6902\n",
    "  - Delivery Van  &rarr; 1595\n",
    "  - Cyclist &rarr; 1004"
   ]
  },
  {
   "cell_type": "code",
   "execution_count": 93,
   "id": "b06dbded",
   "metadata": {},
   "outputs": [
    {
     "data": {
      "text/plain": [
       "i10\n",
       "0                                                                                                                                                            15881\n",
       "Berlin                                                                                                                                                        1156\n",
       "1                                                                                                                                                              120\n",
       " Lieferverkehr                                                                                                                                                   9\n",
       " Be- und Entladen vor Geschäften                                                                                                                                 3\n",
       " wegen Baustelle. trotz stärkerer Abbremsung Aufprall der Felge mit Übergang Kante                                                                               2\n",
       " welcher hier fahrende Radfahrer durch die Ampel nicht zum Halten zwingt. Dadurch entstehen regelmäßig gefährliche Situationen.                                  2\n",
       " Vollbremsung                                                                                                                                                    2\n",
       " musste anhalten wegen überholenden LKW                                                                                                                          1\n",
       " setzt sein Auto als Waffe ein                                                                                                                                   1\n",
       " die langsam und unberechenbar über den Weg torkeln.                                                                                                             1\n",
       " ich hätte Rot und hat mich beschimpft.                                                                                                                          1\n",
       " dass man voreinander abbiegt                                                                                                                                    1\n",
       " durch Baustelle verstärkt. Wartende Radfahrer blockieren links abbiegende. Zusätzlich Kreuzung durch PKW blockiert.                                             1\n",
       " dass Radweg an vielgenutzter Bushaltestelle vorbeiführt.                                                                                                        1\n",
       " musste in den Verkehr ausweichen                                                                                                                                1\n",
       " den ich nicht sofort überholen konnte                                                                                                                           1\n",
       " so dass ich nicht die Fahrspur wechseln konnte. Ich musste anhalten                                                                                             1\n",
       " sonst crash                                                                                                                                                     1\n",
       " die der Fahrer bei geöffneter Seitenscheibe gehört haben muss. Fahre wieder Straße!                                                                             1\n",
       " Ausweichen auf Straße                                                                                                                                           1\n",
       " trotz vorher blinken.                                                                                                                                           1\n",
       " ohne auf Verkehr zu achten.                                                                                                                                     1\n",
       " hab ihn trotzdem leicht touchiert.                                                                                                                              1\n",
       " Auto auf FahrradStreifen                                                                                                                                        1\n",
       " gleichzeitig rechts Dooringgefahr wg parkenden Autos                                                                                                            1\n",
       " da er grünen Pfeil falsch umsetzt. Eigene Vollbremsung und Ausweichen kann Unfall knapp verhindern.                                                             1\n",
       " weil ich den nicht benutzungspflichtigen Radweg  nicht nutze.                                                                                                   1\n",
       " halten auf dem Radweg                                                                                                                                           1\n",
       "                                                                                                                                                                 1\n",
       " der direkt vor mir links abgebogen ist. Hat sich aber entschuldigt.                                                                                             1\n",
       " ein Überweg hier wäre ideal                                                                                                                                     1\n",
       " wegen straßenfest etwas weiter Weg in Blücherstraße                                                                                                             1\n",
       " zwei Busse                                                                                                                                                      1\n",
       " um seine Kinder abzusetzen.                                                                                                                                     1\n",
       " daher absolut unnötig.                                                                                                                                          1\n",
       " der so nicht stattgefunden hat...womöglich eine unterbrechung der gps-ortung?                                                                                   1\n",
       " fuhr trotzdem. Gefahrbremsung.                                                                                                                                  1\n",
       " nur ausweichen auf die Fahrbahn ging.                                                                                                                           1\n",
       " rasantes Ausparken ohne Rücksicht auf Radfahrer.                                                                                                                1\n",
       "  weil zu langsam.                                                                                                                                               1\n",
       " Ladetätigkeiten                                                                                                                                                 1\n",
       " Ladetätigkeit                                                                                                                                                   1\n",
       " der während des Vorbeifahrens losgefahren ist                                                                                                                   1\n",
       "  taxi hinter mir fährt sehr nah auf um auch noch durch grün zu kommen.                                                                                          1\n",
       " während ich einem auf unserer Spur haltendem Fahrzeug ausgewichen bin                                                                                           1\n",
       " bis er abbiegen kann. Völlig unnötig.                                                                                                                           1\n",
       " mangels Fahrrad Ampel.                                                                                                                                          1\n",
       " Radfahrende müssen mit im Stau stehen... täglich... viele fahren viel zu eng zwischen Autos weiter oder auf dem Gehweg. Stau meistens bis alt Mariendorf        1\n",
       " kein Bus in der Nähe                                                                                                                                            1\n",
       " Gefahrbremsung                                                                                                                                                  1\n",
       " die gleichzeitig für Fahrräder freigegeben ist. Dichtes Gedränge mit Fahrzeugen.                                                                                1\n",
       " enge Straße                                                                                                                                                     1\n",
       " vorsichtiges Vorbeirollen auf restlichen schmalen Streifen.                                                                                                     1\n",
       "  weil er Parkplatz gesehen hat.                                                                                                                                 1\n",
       " da ragt die Motorhaube schon Mal auf den Radweg.                                                                                                                1\n",
       " sehr enge Fahrradfahrbahn                                                                                                                                       1\n",
       " der den Radweg zumachte.                                                                                                                                        1\n",
       " viel Verkehr. Rush hour. kein einziges Fahrzeug hält mehr als einen Meter Abstand ein                                                                           1\n",
       "Name: count, dtype: int64"
      ]
     },
     "execution_count": 93,
     "metadata": {},
     "output_type": "execute_result"
    }
   ],
   "source": [
    "# i10 = Electric Scooter\n",
    "\n",
    "df['i10'].value_counts()"
   ]
  },
  {
   "cell_type": "code",
   "execution_count": 103,
   "id": "56574970",
   "metadata": {},
   "outputs": [
    {
     "data": {
      "text/plain": [
       "scary\n",
       "0    12410\n",
       "1     4816\n",
       "Name: count, dtype: int64"
      ]
     },
     "execution_count": 103,
     "metadata": {},
     "output_type": "execute_result"
    }
   ],
   "source": [
    "# scary: 1, if the incident was scary, 0 otherwise\n",
    "\n",
    "df['scary'].value_counts()"
   ]
  },
  {
   "cell_type": "code",
   "execution_count": 113,
   "id": "2dcbace6",
   "metadata": {},
   "outputs": [
    {
     "data": {
      "text/plain": [
       "0        True\n",
       "1        True\n",
       "2        True\n",
       "3        True\n",
       "4        True\n",
       "         ... \n",
       "17221    True\n",
       "17222    True\n",
       "17223    True\n",
       "17224    True\n",
       "17225    True\n",
       "Name: desc, Length: 17226, dtype: bool"
      ]
     },
     "execution_count": 113,
     "metadata": {},
     "output_type": "execute_result"
    }
   ],
   "source": [
    "# desc: text description of the incident.\n",
    "\n",
    "df['desc'] != 'NaN'"
   ]
  },
  {
   "cell_type": "code",
   "execution_count": null,
   "id": "6efc683d",
   "metadata": {},
   "outputs": [],
   "source": []
  }
 ],
 "metadata": {
  "kernelspec": {
   "display_name": "Python 3 (ipykernel)",
   "language": "python",
   "name": "python3"
  },
  "language_info": {
   "codemirror_mode": {
    "name": "ipython",
    "version": 3
   },
   "file_extension": ".py",
   "mimetype": "text/x-python",
   "name": "python",
   "nbconvert_exporter": "python",
   "pygments_lexer": "ipython3",
   "version": "3.12.5"
  }
 },
 "nbformat": 4,
 "nbformat_minor": 5
}
